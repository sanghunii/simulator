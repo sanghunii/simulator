{
 "cells": [
  {
   "cell_type": "markdown",
   "metadata": {},
   "source": [
    "<a href=\"https://www.notion.so/250120_-5c156b8668a8460181fb6ee2e2b3195a\">20250120 피드백</a>\n",
    "\n",
    "# Feedback\n",
    "- machine 갯수 2개\n",
    "- insepction_point = mc1과 mc2사이에 고정\n",
    "    - 단, 이후 insepction point가 바뀔 수 있다는 것을 고려\n",
    "- 각 machine별 job투입 시점은 맨 처음에 결정된 상태로 job 투입<br><br><br>\n",
    "- inspect_itv변수이름 변경\n",
    "    - 마땅히 생각 안나는 관계로 나중에 정하자 \n",
    "\n",
    "<br><br><br>\n",
    "\n",
    "package-version은 requirements.txt참고\n"
   ]
  },
  {
   "cell_type": "markdown",
   "metadata": {},
   "source": [
    "# 피드백 반영 ENV code"
   ]
  },
  {
   "cell_type": "markdown",
   "metadata": {},
   "source": [
    "## Packages"
   ]
  },
  {
   "cell_type": "code",
   "execution_count": 1,
   "metadata": {},
   "outputs": [],
   "source": [
    "import pandas as pd\n",
    "import numpy as np\n",
    "import random"
   ]
  },
  {
   "cell_type": "markdown",
   "metadata": {},
   "source": [
    "## Define Variables"
   ]
  },
  {
   "cell_type": "code",
   "execution_count": 2,
   "metadata": {},
   "outputs": [],
   "source": [
    "# job\n",
    "job_num = 5\n",
    "\n",
    "# insepct\n",
    "inspect_itv = 2\n",
    "inspect_proc = 30\n",
    "inspect_point = 1 ##1번째 Machine을 거친 이후에 inpsect진행\n",
    "\n",
    "# machine\n",
    "mc1_range = [10,20]\n",
    "mc2_range = [20, 30]\n",
    "machine_range = [mc1_range, mc2_range]\n",
    "machine_num = len(machine_range)\n",
    "\n",
    "# machine별 job 투입순서\n",
    "mc1_job_sequence = []\n",
    "mc2_job_sequence = []\n"
   ]
  },
  {
   "cell_type": "markdown",
   "metadata": {},
   "source": [
    "# Create Job for input"
   ]
  },
  {
   "cell_type": "code",
   "execution_count": 16,
   "metadata": {},
   "outputs": [
    {
     "name": "stdout",
     "output_type": "stream",
     "text": [
      "[[14, 15, 12, 17, 13], [26, 26, 22, 24, 26]]\n"
     ]
    }
   ],
   "source": [
    "# Create Job \n",
    "def make_job_proc_time(machine_num = None, job_num = None, machine_range = None):\n",
    "\n",
    "    # check parameters\n",
    "    if machine_num == None:\n",
    "        raise Exception(\"machine_num parameter가 없음\")\n",
    "    if job_num == None:\n",
    "        raise Exception(\"job_num parameter가 없음\")\n",
    "    if machine_range == None:\n",
    "        raise Exception(\"machine range parameter가 없음\")\n",
    "    \n",
    "    # create mc_job_matrix\n",
    "    mc_job_matrix = []\n",
    "    for i in range(machine_num):\n",
    "        jobs_proc = []\n",
    "        for j in range(job_num):\n",
    "            jobs_proc.append(random.randint(machine_range[i][0], machine_range[i][1]))\n",
    "        mc_job_matrix.append(jobs_proc)\n",
    "    return mc_job_matrix\n",
    "\n",
    "mc_job_matrix = make_job_proc_time(\n",
    "    machine_num=machine_num, job_num=job_num, machine_range=machine_range\n",
    ")\n",
    "print(mc_job_matrix)"
   ]
  },
  {
   "cell_type": "markdown",
   "metadata": {},
   "source": [
    "# Scheduing with ReinforcementLearning Algorithm\n",
    "\n",
    "- 여기서 Job Scheduing을 진행한다.\n",
    "- 해당 블록에 RL Moudle이 들어감\n",
    "- 일단 지금은 각 machine별 job투입 시점을 random하게 정한다. "
   ]
  },
  {
   "cell_type": "code",
   "execution_count": 31,
   "metadata": {},
   "outputs": [
    {
     "name": "stdout",
     "output_type": "stream",
     "text": [
      "[0, 1, 2, 3, 4]\n",
      "[2, 4, 0, 1, 3]\n",
      "[3, 4, 2, 1, 0]\n",
      "{'mc1_job_sequence': [2, 4, 0, 1, 3], 'mc2_job_sequence': [3, 4, 2, 1, 0], 'job_inspection': [0, 1, 0, 0, 0]}\n"
     ]
    }
   ],
   "source": [
    "# job_seqence 생성 코드\n",
    "x = 0\n",
    "job_sequence = []\n",
    "\n",
    "for _ in range(job_num):\n",
    "    job_sequence.append(x)\n",
    "    x+=1\n",
    "\n",
    "print(job_sequence)\n",
    "\n",
    "\n",
    "# machine별 job_sequence(job투입순서)\n",
    "random.shuffle(job_sequence)\n",
    "mc1_job_sequence = job_sequence[:]  # job_sequence 복사\n",
    "\n",
    "random.shuffle(job_sequence)\n",
    "mc2_job_sequence = job_sequence[:]  # job_sequence 복사\n",
    "\n",
    "print(mc1_job_sequence)\n",
    "print(mc2_job_sequence)\n",
    "\n",
    "\n",
    "# inspect 대상 생성 코드 (한개만 한다고 가정)\n",
    "job_inspection = []\n",
    "inspection = random.randint(0,5)\n",
    "\n",
    "for _ in range(job_num):\n",
    "    if _ == inspection:\n",
    "        job_inspection.append(1)\n",
    "    else:\n",
    "        job_inspection.append(0)\n",
    "\n",
    "RL_result = {\n",
    "    \"mc1_job_sequence\": mc1_job_sequence,\n",
    "    \"mc2_job_sequence\": mc2_job_sequence,\n",
    "    \"job_inspection\": job_inspection \n",
    "}\n",
    "\n",
    "print(RL_result)"
   ]
  }
 ],
 "metadata": {
  "kernelspec": {
   "display_name": ".venv",
   "language": "python",
   "name": "python3"
  },
  "language_info": {
   "codemirror_mode": {
    "name": "ipython",
    "version": 3
   },
   "file_extension": ".py",
   "mimetype": "text/x-python",
   "name": "python",
   "nbconvert_exporter": "python",
   "pygments_lexer": "ipython3",
   "version": "3.12.4"
  }
 },
 "nbformat": 4,
 "nbformat_minor": 2
}
