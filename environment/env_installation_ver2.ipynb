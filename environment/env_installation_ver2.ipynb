{
 "cells": [
  {
   "cell_type": "markdown",
   "metadata": {},
   "source": [
    "<a href=\"https://www.notion.so/250120_-5c156b8668a8460181fb6ee2e2b3195a\">20250120 피드백</a>\n",
    "\n",
    "# Feedback\n",
    "- machine 갯수 2개\n",
    "- insepction_point = mc1과 mc2사이에 고정\n",
    "    - 단, 이후 insepction point가 바뀔 수 있다는 것을 고려\n",
    "- 각 machine별 job투입 시점은 맨 처음에 결정된 상태로 job 투입<br><br><br>\n",
    "- inspect_itv변수이름 변경\n",
    "    - 마땅히 생각 안나는 관계로 나중에 정하자 \n",
    "\n",
    "<br><br><br>\n",
    "\n",
    "package-version은 requirements.txt참고\n"
   ]
  },
  {
   "cell_type": "markdown",
   "metadata": {},
   "source": [
    "# 피드백 반영 ENV code"
   ]
  },
  {
   "cell_type": "markdown",
   "metadata": {},
   "source": [
    "## Packages"
   ]
  },
  {
   "cell_type": "code",
   "execution_count": 66,
   "metadata": {},
   "outputs": [],
   "source": [
    "import pandas as pd\n",
    "import numpy as np\n",
    "import random"
   ]
  },
  {
   "cell_type": "markdown",
   "metadata": {},
   "source": [
    "## Define Variables"
   ]
  },
  {
   "cell_type": "code",
   "execution_count": 67,
   "metadata": {},
   "outputs": [],
   "source": [
    "# job\n",
    "job_num = 5\n",
    "\n",
    "# insepct\n",
    "inspect_itv = 2\n",
    "inspect_proc = 30\n",
    "inspect_point = 1 ##1번째 Machine을 거친 이후에 inpsect진행\n",
    "\n",
    "# machine\n",
    "mc1_range = [10,20]\n",
    "mc2_range = [20, 30]\n",
    "machine_range = [mc1_range, mc2_range]\n",
    "machine_num = len(machine_range)\n",
    "\n",
    "# machine별 job 투입순서\n",
    "mc1_job_sequence = []\n",
    "mc2_job_sequence = []\n"
   ]
  },
  {
   "cell_type": "markdown",
   "metadata": {},
   "source": [
    "# Create Job for input"
   ]
  },
  {
   "cell_type": "code",
   "execution_count": 68,
   "metadata": {},
   "outputs": [
    {
     "name": "stdout",
     "output_type": "stream",
     "text": [
      "[[13, 16, 10, 17, 13], [27, 25, 29, 28, 27]]\n"
     ]
    }
   ],
   "source": [
    "# Create Job \n",
    "def make_job_proc_time(machine_num = None, job_num = None, machine_range = None):\n",
    "\n",
    "    # check parameters\n",
    "    if machine_num == None:\n",
    "        raise Exception(\"machine_num parameter가 없음\")\n",
    "    if job_num == None:\n",
    "        raise Exception(\"job_num parameter가 없음\")\n",
    "    if machine_range == None:\n",
    "        raise Exception(\"machine range parameter가 없음\")\n",
    "    \n",
    "    # create mc_job_matrix\n",
    "    mc_job_matrix = []\n",
    "    for i in range(machine_num):\n",
    "        jobs_proc = []\n",
    "        for j in range(job_num):\n",
    "            jobs_proc.append(random.randint(machine_range[i][0], machine_range[i][1]))\n",
    "        mc_job_matrix.append(jobs_proc)\n",
    "    return mc_job_matrix\n",
    "\n",
    "mc_job_matrix = make_job_proc_time(\n",
    "    machine_num=machine_num, job_num=job_num, machine_range=machine_range\n",
    ")\n",
    "print(mc_job_matrix)"
   ]
  },
  {
   "cell_type": "markdown",
   "metadata": {},
   "source": [
    "# Scheduing with ReinforcementLearning Algorithm\n",
    "\n",
    "- 여기서 Job Scheduing을 진행한다.\n",
    "- 해당 블록에 RL Moudle이 들어감\n",
    "- 일단 지금은 각 machine별 job투입 시점을 random하게 정한다. "
   ]
  },
  {
   "cell_type": "code",
   "execution_count": 69,
   "metadata": {},
   "outputs": [
    {
     "name": "stdout",
     "output_type": "stream",
     "text": [
      "[3, 0, 4, 2, 1]\n",
      "[3, 2, 4, 0, 1]\n",
      "{'mc1_job_sequence': [3, 0, 4, 2, 1], 'mc2_job_sequence': [3, 2, 4, 0, 1], 'job_inspection': [0, 0, 1, 0, 0]}\n"
     ]
    }
   ],
   "source": [
    "# job_seqence 생성 코드\n",
    "x = 0\n",
    "job_sequence = []\n",
    "\n",
    "for _ in range(job_num):\n",
    "    job_sequence.append(x)\n",
    "    x+=1\n",
    "\n",
    "\n",
    "\n",
    "\n",
    "# machine별 job_sequence(job투입순서)\n",
    "random.shuffle(job_sequence)\n",
    "mc1_job_sequence = job_sequence[:]  # job_sequence 복사\n",
    "\n",
    "random.shuffle(job_sequence)\n",
    "mc2_job_sequence = job_sequence[:]  # job_sequence 복사\n",
    "\n",
    "print(mc1_job_sequence)\n",
    "print(mc2_job_sequence)\n",
    "\n",
    "\n",
    "# inspect 대상 생성 코드 (한개만 한다고 가정)\n",
    "job_inspection = []\n",
    "inspection = random.randint(0,5)\n",
    "\n",
    "for _ in range(job_num):\n",
    "    if _ == inspection:\n",
    "        job_inspection.append(1)\n",
    "    else:\n",
    "        job_inspection.append(0)\n",
    "\n",
    "RL_result = {\n",
    "    \"mc1_job_sequence\": mc1_job_sequence,\n",
    "    \"mc2_job_sequence\": mc2_job_sequence,\n",
    "    \"job_inspection\": job_inspection \n",
    "}\n",
    "\n",
    "print(RL_result)"
   ]
  },
  {
   "cell_type": "markdown",
   "metadata": {},
   "source": [
    "# Create and Fill report\n",
    "\n",
    "- job의 순서가 바뀌는 시점마다 그 시점까지의 I/O시점 data가 담긴 report를 제출한다. \n",
    "- mc1 - inpsection - mc2과정에서는 mc2 input시점에서 job의 순서가 바뀌므로 inspection이 끝난 시점에서 한번의 리포트를 제출하고 이후 mc2과정이 끝나고 나서 최종 리포트를 제출한다."
   ]
  },
  {
   "cell_type": "code",
   "execution_count": 70,
   "metadata": {},
   "outputs": [
    {
     "name": "stdout",
     "output_type": "stream",
     "text": [
      "[['mc0i', 'mc0o'], ['insi', 'inso'], ['mc1i', 'mc1o']]\n",
      "['mc0i', 'mc0o', 'insi', 'inso', 'mc1i', 'mc1o']\n"
     ]
    },
    {
     "data": {
      "text/html": [
       "<div>\n",
       "<style scoped>\n",
       "    .dataframe tbody tr th:only-of-type {\n",
       "        vertical-align: middle;\n",
       "    }\n",
       "\n",
       "    .dataframe tbody tr th {\n",
       "        vertical-align: top;\n",
       "    }\n",
       "\n",
       "    .dataframe thead th {\n",
       "        text-align: right;\n",
       "    }\n",
       "</style>\n",
       "<table border=\"1\" class=\"dataframe\">\n",
       "  <thead>\n",
       "    <tr style=\"text-align: right;\">\n",
       "      <th></th>\n",
       "      <th>job</th>\n",
       "      <th>inspect</th>\n",
       "      <th>temp</th>\n",
       "      <th>mc0i</th>\n",
       "      <th>mc0o</th>\n",
       "      <th>insi</th>\n",
       "      <th>inso</th>\n",
       "      <th>mc1i</th>\n",
       "      <th>mc1o</th>\n",
       "    </tr>\n",
       "  </thead>\n",
       "  <tbody>\n",
       "    <tr>\n",
       "      <th>0</th>\n",
       "      <td>3</td>\n",
       "      <td>0</td>\n",
       "      <td>0</td>\n",
       "      <td>None</td>\n",
       "      <td>None</td>\n",
       "      <td>None</td>\n",
       "      <td>None</td>\n",
       "      <td>None</td>\n",
       "      <td>None</td>\n",
       "    </tr>\n",
       "    <tr>\n",
       "      <th>1</th>\n",
       "      <td>0</td>\n",
       "      <td>0</td>\n",
       "      <td>0</td>\n",
       "      <td>None</td>\n",
       "      <td>None</td>\n",
       "      <td>None</td>\n",
       "      <td>None</td>\n",
       "      <td>None</td>\n",
       "      <td>None</td>\n",
       "    </tr>\n",
       "    <tr>\n",
       "      <th>2</th>\n",
       "      <td>4</td>\n",
       "      <td>1</td>\n",
       "      <td>0</td>\n",
       "      <td>None</td>\n",
       "      <td>None</td>\n",
       "      <td>None</td>\n",
       "      <td>None</td>\n",
       "      <td>None</td>\n",
       "      <td>None</td>\n",
       "    </tr>\n",
       "    <tr>\n",
       "      <th>3</th>\n",
       "      <td>2</td>\n",
       "      <td>0</td>\n",
       "      <td>0</td>\n",
       "      <td>None</td>\n",
       "      <td>None</td>\n",
       "      <td>None</td>\n",
       "      <td>None</td>\n",
       "      <td>None</td>\n",
       "      <td>None</td>\n",
       "    </tr>\n",
       "    <tr>\n",
       "      <th>4</th>\n",
       "      <td>1</td>\n",
       "      <td>0</td>\n",
       "      <td>0</td>\n",
       "      <td>None</td>\n",
       "      <td>None</td>\n",
       "      <td>None</td>\n",
       "      <td>None</td>\n",
       "      <td>None</td>\n",
       "      <td>None</td>\n",
       "    </tr>\n",
       "  </tbody>\n",
       "</table>\n",
       "</div>"
      ],
      "text/plain": [
       "   job  inspect  temp  mc0i  mc0o  insi  inso  mc1i  mc1o\n",
       "0    3        0     0  None  None  None  None  None  None\n",
       "1    0        0     0  None  None  None  None  None  None\n",
       "2    4        1     0  None  None  None  None  None  None\n",
       "3    2        0     0  None  None  None  None  None  None\n",
       "4    1        0     0  None  None  None  None  None  None"
      ]
     },
     "execution_count": 70,
     "metadata": {},
     "output_type": "execute_result"
    }
   ],
   "source": [
    "# 1. Create Report \n",
    "# machine1 ~ inspection I/O report\n",
    "\n",
    "report = pd.DataFrame({\n",
    "    'job': RL_result.get('mc1_job_sequence'),\n",
    "    'inspect': RL_result.get('job_inspection')\n",
    "})\n",
    "\n",
    "\n",
    "# 계산을 위한 임시 칼럼 생성\n",
    "report['temp'] = 0\n",
    "\n",
    "# 기계, 검사 정보 칼럼 생성\n",
    "col_list = [[f'mc{i}i', f'mc{i}o'] for i in range(machine_num)]\n",
    "concat = ['insi', 'inso']\n",
    "\n",
    "# inspection과정 삽입\n",
    "col_list.insert(inspect_point, concat)\n",
    "print(col_list)\n",
    "\n",
    "# list 평면화\n",
    "col_list = [item for temp in col_list for item in temp]\n",
    "print(col_list)\n",
    "\n",
    "# Column 병합\n",
    "report[col_list] = None\n",
    "report"
   ]
  },
  {
   "cell_type": "markdown",
   "metadata": {},
   "source": [
    "# Non-Permutation Process Logic"
   ]
  },
  {
   "cell_type": "markdown",
   "metadata": {},
   "source": [
    "## Step1. Machine1 - Inspection"
   ]
  },
  {
   "cell_type": "code",
   "execution_count": 71,
   "metadata": {},
   "outputs": [
    {
     "name": "stdout",
     "output_type": "stream",
     "text": [
      "   job  inspect  temp  mc0i  mc0o  insi  inso  mc1i  mc1o\n",
      "0    3        0     0  None  None  None  None  None  None\n",
      "1    0        0     0  None  None  None  None  None  None\n",
      "2    4        1     0  None  None  None  None  None  None\n",
      "3    2        0     0  None  None  None  None  None  None\n",
      "4    1        0     0  None  None  None  None  None  None\n",
      "total proc num = 6\n",
      "-----------------Step1 결과 -----------------\n",
      " \n",
      "mc1_job_input_order : [3, 0, 4, 2, 1]\n",
      "\n",
      "   job  inspect  temp mc0i mc0o insi inso  mc1i  mc1o\n",
      "0    3        0     0    0   17   17   17  None  None\n",
      "1    0        0     0   17   30   30   30  None  None\n",
      "2    4        1     0   30   43   43   73  None  None\n",
      "3    2        0     0   43   53   53   53  None  None\n",
      "4    1        0     0   53   69   69   69  None  None\n",
      "---------------------------------- ----------------------------------\n",
      "\n",
      "\n"
     ]
    }
   ],
   "source": [
    "# Non-Permutation\n",
    "print(report)\n",
    "total_proc_num = machine_num * 2  + 2 \n",
    "print(f\"total proc num = {machine_num * 2 + 2}\")\n",
    "\n",
    "for seq in range(0, job_num):\n",
    "    for mc in range(3, 3 + inspect_point*2 + 2):\n",
    "        \n",
    "        # inspect in column 검터 중인 경우\n",
    "        if mc == (3 + inspect_point*2):\n",
    "            ##첫 번째 작업일 경우 예외처리\n",
    "            if seq == 0:\n",
    "                report.iloc[0, mc] = report.iloc[0, mc-1]\n",
    "            # 첫 번째 작업이 아니라면 \n",
    "            else:\n",
    "                ##inspect 대상일 경우\n",
    "                if report.loc[seq, 'inspect'] == 1:\n",
    "                    previous_insp = -1\n",
    "                    previous_ins_seq = -1\n",
    "\n",
    "                    # 이전에 insepction을 거친 job이 있는지 탐색\n",
    "                    # 있다면 그 job의 inpsection out타임과 지금 job의 이전 machine의 output time을 비교해서 더 큰값을 insi로 집어넣는다.\n",
    "                    pre_porc = range(0, seq)\n",
    "                    for i in reversed(range(0, seq)):\n",
    "                        previous_insp = report.loc[i,'inspect']\n",
    "                        if (previous_insp == 1):\n",
    "                            previous_ins_seq = i\n",
    "                            break\n",
    "                    # 지금이 처음이라면\n",
    "                    if (previous_insp == 0):\n",
    "                        report.iloc[seq, mc] = report.iloc[seq, mc-1]\n",
    "\n",
    "                    # 이전 단계에 inspection을 거친 job이 있다면 \n",
    "                    else:\n",
    "                        report.iloc[seq, mc] = max(report.iloc[seq, mc-1], report.iloc[previous_ins_seq, mc+1])\n",
    "                # inspection 대상이 아닐경우 \n",
    "                else:\n",
    "                    report.iloc[seq, mc] = report.iloc[seq, mc-1]\n",
    "\n",
    "        # inspect out칼럼 검터 중인 경우\n",
    "        elif mc == (3 + inspect_point*2 + 1):\n",
    "            # insepct 대상 O\n",
    "            if report.loc[seq, 'inspect'] == 1:\n",
    "                report.iloc[seq, mc] = report.iloc[seq, mc-1] + inspect_proc\n",
    "            \n",
    "            # insepct 대상 X\n",
    "            else:\n",
    "                report.iloc[seq, mc] = report.iloc[seq, mc-1]\n",
    "        \n",
    "\n",
    "        # 일반 기계 in 칼럼 검토 중인 경우\n",
    "        elif mc % 2 == 1:\n",
    "            # 첫번째 작업 예외\n",
    "            if seq == 0:\n",
    "                report.iloc[0, mc] = report.iloc[0, mc-1]\n",
    "            else:\n",
    "                report.iloc[seq, mc] = max(report.iloc[seq, mc-1], report.iloc[seq-1, mc+1])\n",
    "        \n",
    "        # 일반 기계 out 칼럼 검토 중인 경우\n",
    "        else:\n",
    "            col = report.columns[mc]\n",
    "            machine = int(col[2:3])\n",
    "            job = report.iloc[seq, 0]\n",
    "            report.iloc[seq, mc] = report.iloc[seq, mc-1] + mc_job_matrix[machine][job]\n",
    "\n",
    "\n",
    "print(\"-----------------Step1 결과 -----------------\\n \")\n",
    "print(f\"mc1_job_input_order : {mc1_job_sequence}\\n\")\n",
    "report1 = report\n",
    "print(report1)\n",
    "print(\"---------------------------------- ----------------------------------\\n\\n\")\n",
    "                    "
   ]
  },
  {
   "cell_type": "markdown",
   "metadata": {},
   "source": [
    "## Step2. Machine2\n",
    "- inpsect는 단 한번 진행하며, 그 시점은 mc1이 끝난 이후로 고정된 상태라고 가정한 상태에서의 코드이다.\n",
    "- 즉 insepction과정이 더이상 일어나지 않는 상황을 생각하고 짠 코드이다.\n",
    "- 후에 앞선 로직에 변화가 있을 경우 (inpsection횟수가 늘어 난다거나 inspection시점이 변한다거나)하면 해당 Logic은 수정이 필요하다."
   ]
  },
  {
   "cell_type": "code",
   "execution_count": 73,
   "metadata": {},
   "outputs": [
    {
     "name": "stdout",
     "output_type": "stream",
     "text": [
      "어휴 진짜 씨발 진짜 \n",
      "   job  inspect  temp mc0i mc0o insi inso mc1i mc1o\n",
      "0    3        0     0    0   17   17   17   17   34\n",
      "1    2        0     0   43   53   53   53   53   63\n",
      "2    4        1     0   30   43   43   73   73   86\n",
      "3    0        0     0   17   30   30   30   86   99\n",
      "4    1        0     0   53   69   69   69   99  115\n",
      "-----------------Step2 결과 -----------------\n",
      " \n",
      "mc2_job_input_order : [3, 2, 4, 0, 1]\n",
      "\n",
      "   job  inspect  temp mc0i mc0o insi inso mc1i mc1o\n",
      "0    3        0     0    0   17   17   17   17   34\n",
      "1    2        0     0   43   53   53   53   53   63\n",
      "2    4        1     0   30   43   43   73   73   86\n",
      "3    0        0     0   17   30   30   30   86   99\n",
      "4    1        0     0   53   69   69   69   99  115\n",
      "---------------------------------- ----------------------------------\n",
      "\n",
      "\n"
     ]
    }
   ],
   "source": [
    "## Job순서 바꾸는 Logic\n",
    "# 1. job_num을 Index로 셋팅하고 mc2_job_sequence에 따라 재정렬\n",
    "report = report.set_index('job').reindex(RL_result.get('mc2_job_sequence'))\n",
    "# 2. 원래 index를 다시 가져옴 (0,1,2,3,4)\n",
    "report = report.reset_index(drop=False)\n",
    "\n",
    "for seq in range(0, job_num):\n",
    "    for mc in range(3 + inspect_point * 2 + 1  + 1, 3 + total_proc_num):\n",
    "        \n",
    "        # 일반 Mahcine Input\n",
    "        if mc % 2 == 1:\n",
    "            # 첫번째 작업 예외 처리\n",
    "            if seq == 0:\n",
    "                report.iloc[seq, mc] = report.iloc[seq, mc-1]\n",
    "            else:\n",
    "                report.iloc[seq, mc] = max(report.iloc[seq, mc-1], report.iloc[seq-1, mc+1])\n",
    "\n",
    "        # 일반 Machine Output\n",
    "        else:\n",
    "            col = report.columns[mc]\n",
    "            # machine number parsing\n",
    "            macine = int(col[2:3])\n",
    "            # job number parsing\n",
    "            job = report.iloc[seq, 0]\n",
    "            report.iloc[seq, mc] = report.iloc[seq, mc-1] + mc_job_matrix[machine][job]\n",
    "\n",
    "\n",
    "print(\"-----------------Step2 결과 -----------------\\n \")\n",
    "print(f\"mc2_job_input_order : {mc2_job_sequence}\\n\")\n",
    "report2 = report\n",
    "print(report2)\n",
    "print(\"---------------------------------- ----------------------------------\\n\\n\")"
   ]
  },
  {
   "cell_type": "code",
   "execution_count": 75,
   "metadata": {},
   "outputs": [
    {
     "name": "stdout",
     "output_type": "stream",
     "text": [
      "   job  inspect  temp mc0i mc0o insi inso  mc1i  mc1o\n",
      "0    3        0     0    0   17   17   17  None  None\n",
      "1    0        0     0   17   30   30   30  None  None\n",
      "2    4        1     0   30   43   43   73  None  None\n",
      "3    2        0     0   43   53   53   53  None  None\n",
      "4    1        0     0   53   69   69   69  None  None\n",
      "   job  inspect  temp mc0i mc0o insi inso mc1i mc1o\n",
      "0    3        0     0    0   17   17   17   17   34\n",
      "1    2        0     0   43   53   53   53   53   63\n",
      "2    4        1     0   30   43   43   73   73   86\n",
      "3    0        0     0   17   30   30   30   86   99\n",
      "4    1        0     0   53   69   69   69   99  115\n"
     ]
    }
   ],
   "source": [
    "print(report1)\n",
    "print(report2)"
   ]
  }
 ],
 "metadata": {
  "kernelspec": {
   "display_name": ".venv",
   "language": "python",
   "name": "python3"
  },
  "language_info": {
   "codemirror_mode": {
    "name": "ipython",
    "version": 3
   },
   "file_extension": ".py",
   "mimetype": "text/x-python",
   "name": "python",
   "nbconvert_exporter": "python",
   "pygments_lexer": "ipython3",
   "version": "3.12.4"
  }
 },
 "nbformat": 4,
 "nbformat_minor": 2
}
